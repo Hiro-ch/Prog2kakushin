{
  "nbformat": 4,
  "nbformat_minor": 0,
  "metadata": {
    "colab": {
      "provenance": [],
      "authorship_tag": "ABX9TyMx6H++mug0s39tE17vF5Un",
      "include_colab_link": true
    },
    "kernelspec": {
      "name": "python3",
      "display_name": "Python 3"
    },
    "language_info": {
      "name": "python"
    }
  },
  "cells": [
    {
      "cell_type": "markdown",
      "metadata": {
        "id": "view-in-github",
        "colab_type": "text"
      },
      "source": [
        "<a href=\"https://colab.research.google.com/github/Hiro-ch/Prog2kakushin/blob/main/work3.ipynb\" target=\"_parent\"><img src=\"https://colab.research.google.com/assets/colab-badge.svg\" alt=\"Open In Colab\"/></a>"
      ]
    },
    {
      "cell_type": "markdown",
      "source": [
        "### 画像処理を使ったプログラムを作成します。"
      ],
      "metadata": {
        "id": "XQ7ncGGqGp8T"
      }
    },
    {
      "cell_type": "code",
      "source": [
        "import numpy as np\n",
        "import cv2\n",
        "from google.colab.patches import cv2_imshow\n",
        "\n",
        "file = \"○○.jpeg\"\n",
        "img = cv2.imread(file)\n",
        "\n",
        "h, w, channel = img.shape\n",
        "\n",
        "left_cut_img = img[0:h, 0:w//2]\n",
        "right_cut_img = img[0:h , w//2:w]\n",
        "\n",
        "#右半分の画像を180°回転する\n",
        "center = ((w//2) // 2, h//2)\n",
        "angle = 180\n",
        "scale = 1.0\n",
        "trans = cv2.getRotationMatrix2D(center, angle , scale)\n",
        "right_cut_rotated_img = cv2.warpAffine(right_cut_img, trans, (w,h))\n",
        "\n",
        "#画像の幅が奇数か偶数かで場合分け\n",
        "if w % 2 == 0:\n",
        "   width = w//2\n",
        "else:\n",
        "  width = w//2 + 1\n",
        "\n",
        "right_cut_rotated_img = right_cut_rotated_img[0:h, 0:width]\n",
        "\n",
        "#以下の2行でグレースケールに変換した後、チャネル数を3に変換\n",
        "gray_right_cut_rotated_img = cv2.cvtColor(right_cut_rotated_img, cv2.COLOR_BGR2GRAY)\n",
        "gray_right_cut_rotated_img = cv2.cvtColor(gray_right_cut_rotated_img, cv2.COLOR_GRAY2BGR)\n",
        "\n",
        "new_img = np.zeros((h,w,channel),np.uint8)\n",
        "new_img[0:h,0:0+w//2] = left_cut_img\n",
        "new_img[0:h, w//2:w] = gray_right_cut_rotated_img\n",
        "\n",
        "cv2_imshow(new_img)"
      ],
      "metadata": {
        "id": "lwi_J4ZOGyUB"
      },
      "execution_count": null,
      "outputs": []
    }
  ]
}