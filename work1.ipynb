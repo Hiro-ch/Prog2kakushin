{
  "nbformat": 4,
  "nbformat_minor": 0,
  "metadata": {
    "colab": {
      "provenance": [],
      "authorship_tag": "ABX9TyN/EOu+KsREMaMRWGnZzyt6",
      "include_colab_link": true
    },
    "kernelspec": {
      "name": "python3",
      "display_name": "Python 3"
    },
    "language_info": {
      "name": "python"
    }
  },
  "cells": [
    {
      "cell_type": "markdown",
      "metadata": {
        "id": "view-in-github",
        "colab_type": "text"
      },
      "source": [
        "<a href=\"https://colab.research.google.com/github/Hiro-ch/Prog2kakushin/blob/main/work1.ipynb\" target=\"_parent\"><img src=\"https://colab.research.google.com/assets/colab-badge.svg\" alt=\"Open In Colab\"/></a>"
      ]
    },
    {
      "cell_type": "markdown",
      "source": [
        "### Pandasを使ったプログラムを作成します。"
      ],
      "metadata": {
        "id": "JZjodV2iFxw-"
      }
    },
    {
      "cell_type": "code",
      "source": [],
      "metadata": {
        "id": "F7qIARDWF4-P"
      },
      "execution_count": null,
      "outputs": []
    }
  ]
}