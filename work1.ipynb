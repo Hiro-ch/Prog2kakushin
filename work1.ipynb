{
  "nbformat": 4,
  "nbformat_minor": 0,
  "metadata": {
    "colab": {
      "provenance": [],
      "authorship_tag": "ABX9TyPy5RYJaN4GLYUULJ0lnioU",
      "include_colab_link": true
    },
    "kernelspec": {
      "name": "python3",
      "display_name": "Python 3"
    },
    "language_info": {
      "name": "python"
    }
  },
  "cells": [
    {
      "cell_type": "markdown",
      "metadata": {
        "id": "view-in-github",
        "colab_type": "text"
      },
      "source": [
        "<a href=\"https://colab.research.google.com/github/Hiro-ch/Prog2kakushin/blob/main/work1.ipynb\" target=\"_parent\"><img src=\"https://colab.research.google.com/assets/colab-badge.svg\" alt=\"Open In Colab\"/></a>"
      ]
    },
    {
      "cell_type": "markdown",
      "source": [
        "# Pandasを使ったプログラムを作成します。"
      ],
      "metadata": {
        "id": "JZjodV2iFxw-"
      }
    },
    {
      "cell_type": "markdown",
      "source": [
        "最初に日本語化するためのパッケージをインストールしてください。"
      ],
      "metadata": {
        "id": "JAfxiZRczVey"
      }
    },
    {
      "cell_type": "code",
      "source": [
        "!pip install japanize-matplotlib"
      ],
      "metadata": {
        "id": "GtdQRCtDyOZG"
      },
      "execution_count": null,
      "outputs": []
    },
    {
      "cell_type": "markdown",
      "source": [
        "次に以下のプログラムを実行してください。"
      ],
      "metadata": {
        "id": "SdPuSASl03Fh"
      }
    },
    {
      "cell_type": "code",
      "source": [
        "import pandas as pd\n",
        "import  matplotlib.pyplot as plt\n",
        "import numpy as np\n",
        "import japanize_matplotlib\n",
        "\n",
        "#「nutrients_csvfile.csv」を任意の場所にダウンロードしたのち、以下の○○○○を正しいディレクトリ名に変更してください。\n",
        "df = pd.read_csv(\"○○○○\")\n",
        "df = df.drop(\"Measure\",axis=1)\n",
        "df = df.drop(\"Sat.Fat\",axis=1)\n",
        "df = df.drop(\"Fiber\",axis=1)\n",
        "df = df.replace(\"t\",\"0\")\n",
        "df = df.replace(\"T\",\"0\")\n",
        "df = df.drop(29)\n",
        "df = df.drop(30)\n",
        "df['Grams'] = df['Grams'].str.replace(',', '').astype(float)\n",
        "df['Calories'] = df['Calories'].str.replace(',', '').astype(float)\n",
        "df = df.reset_index()\n",
        "\n",
        "print(\"カロリーやタンパク質、脂質、炭水化物を計算します。\\n\")\n",
        "all_category = [_ for _ in df[\"Category\"]]\n",
        "category_list = list(dict.fromkeys(all_category))\n",
        "index_category_list = [_ for _ in range(len(category_list))]\n",
        "category_dict = dict(zip(index_category_list,category_list))\n",
        "\n",
        "all_calo = 0\n",
        "all_protein = 0\n",
        "all_fat = 0\n",
        "all_carbs = 0\n",
        "\n",
        "while True:\n",
        "  #カテゴリー表示\n",
        "  print(\"カテゴリー：\"+str(category_dict))\n",
        "  chosen_category_num = int(input(\"カテゴリーの番号を入力してください：\"))\n",
        "  if not chosen_category_num in index_category_list:\n",
        "    print(\"カテゴリーに存在する番号を入力してください。\\n\")\n",
        "    continue\n",
        "  df1 = df[df[\"Category\"].str.contains(category_dict[chosen_category_num])]\n",
        "  food_list = [_ for _ in df1[\"Food\"]]\n",
        "  index_food_list = [_ for _ in range(len(food_list))]\n",
        "  food_dict = dict(zip(index_food_list,food_list))\n",
        "\n",
        "  #食べ物表示\n",
        "  print(\"\\n食べ物：\"+str(food_dict))\n",
        "  chosen_food_num = int(input(\"食べ物の番号を入力してください：\"))\n",
        "  if not chosen_food_num in index_food_list:\n",
        "    print(\"食べ物に存在する番号を入力してください。\\n\")\n",
        "    continue\n",
        "  #選択した食べ物の表示\n",
        "  print(\"\\n\"+str(df1[chosen_food_num:chosen_food_num + 1][[\"Food\",\"Grams\",\"Calories\",\"Protein\",\"Fat\",\"Carbs\"]]))\n",
        "  contens = int(input(\"使用する容量(g)を入力してください：\"))\n",
        "\n",
        "  #各成分の加算\n",
        "  all_calo += ((contens / int(df1[chosen_food_num:chosen_food_num + 1][\"Grams\"])) * int(df1[chosen_food_num:chosen_food_num + 1][\"Calories\"]))\n",
        "  all_protein += ((contens / int(df1[chosen_food_num:chosen_food_num + 1][\"Grams\"])) * int(df1[chosen_food_num:chosen_food_num + 1][\"Protein\"]))\n",
        "  all_fat += ((contens / int(df1[chosen_food_num:chosen_food_num + 1][\"Grams\"])) * int(df1[chosen_food_num:chosen_food_num + 1][\"Fat\"]))\n",
        "  all_carbs += ((contens / int(df1[chosen_food_num:chosen_food_num + 1][\"Grams\"])) * int(df1[chosen_food_num:chosen_food_num + 1][\"Carbs\"]))\n",
        "\n",
        "  ask_num = int(input(\"\\n終了したい場合は0を、再開したい場合は1を入力してください：\"))\n",
        "  if ask_num == 0:\n",
        "    break\n",
        "  elif ask_num == 1:\n",
        "    pass\n",
        "  else:\n",
        "    continue\n",
        "\n",
        "#計算結果の表示\n",
        "print(\"\\n\"+\"合計カロリー：\"+str(int(all_calo))+\"kcal\",\"合計タンパク質：\"+ str(int(all_protein))+\"g\",\"合計脂質：\"+ str(int(all_fat))+\"g\",\"合計炭水化物：\"+ str(int(all_carbs))+\"g\")\n",
        "\n",
        "#PFCバランスの円グラフの表示\n",
        "data = np.array([all_protein*4/all_calo*100, all_fat*9/all_calo*100, all_carbs*4/all_calo*100])\n",
        "label = [\"タンパク質\",\"脂質\",\"炭水化物\"]\n",
        "plt.pie(data, labels=label, autopct=\"%.1f%%\",startangle=90, counterclock=False)\n",
        "plt.show()"
      ],
      "metadata": {
        "id": "mIJIaJei3Crp"
      },
      "execution_count": null,
      "outputs": []
    }
  ]
}